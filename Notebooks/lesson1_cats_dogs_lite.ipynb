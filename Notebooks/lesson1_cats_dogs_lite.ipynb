{
 "cells": [
  {
   "cell_type": "code",
   "execution_count": 1,
   "metadata": {},
   "outputs": [],
   "source": [
    "%reload_ext autoreload\n",
    "%autoreload 2\n",
    "%matplotlib inline"
   ]
  },
  {
   "cell_type": "code",
   "execution_count": 15,
   "metadata": {},
   "outputs": [],
   "source": [
    "from fastai.imports import *\n",
    "from fastai.transforms import *\n",
    "from fastai.conv_learner import *\n",
    "from fastai.model import *\n",
    "from fastai.dataset import *\n",
    "from fastai.sgdr import *\n",
    "from fastai.plots import *"
   ]
  },
  {
   "cell_type": "code",
   "execution_count": 6,
   "metadata": {},
   "outputs": [],
   "source": [
    "# This is the path.py library, included in the Anaconda distribution of Python\n",
    "from path import Path as p"
   ]
  },
  {
   "cell_type": "code",
   "execution_count": 69,
   "metadata": {},
   "outputs": [],
   "source": [
    "PATH = \"../../../data/dogscats/\"\n",
    "sz=224\n",
    "bs = 64\n",
    "n = 1000 # Number of dogs and cats to train model on\n",
    "n_cats = n\n",
    "n_dogs = n # We'll set these variables differently in the future for testing\n",
    "# imbalanced classes\n",
    "CAT = 0 # Dummy class variables\n",
    "DOG = 1 # Dummy class variables"
   ]
  },
  {
   "cell_type": "code",
   "execution_count": 4,
   "metadata": {},
   "outputs": [
    {
     "data": {
      "text/plain": [
       "True"
      ]
     },
     "execution_count": 4,
     "metadata": {},
     "output_type": "execute_result"
    }
   ],
   "source": [
    "torch.cuda.is_available()"
   ]
  },
  {
   "cell_type": "code",
   "execution_count": 10,
   "metadata": {},
   "outputs": [
    {
     "data": {
      "text/plain": [
       "[Path('../../../data/dogscats/models'),\n",
       " Path('../../../data/dogscats/sample'),\n",
       " Path('../../../data/dogscats/test1'),\n",
       " Path('../../../data/dogscats/tmp'),\n",
       " Path('../../../data/dogscats/train'),\n",
       " Path('../../../data/dogscats/valid')]"
      ]
     },
     "execution_count": 10,
     "metadata": {},
     "output_type": "execute_result"
    }
   ],
   "source": [
    "p(PATH).dirs()"
   ]
  },
  {
   "cell_type": "code",
   "execution_count": 11,
   "metadata": {},
   "outputs": [
    {
     "name": "stdout",
     "output_type": "stream",
     "text": [
      "[Path('../../../data/dogscats/train/cats'), Path('../../../data/dogscats/train/dogs')]\n",
      "[Path('../../../data/dogscats/valid/cats'), Path('../../../data/dogscats/valid/dogs')]\n"
     ]
    }
   ],
   "source": [
    "print(p(PATH + \"train/\").dirs())\n",
    "print(p(PATH + \"valid/\").dirs())"
   ]
  },
  {
   "cell_type": "code",
   "execution_count": 46,
   "metadata": {},
   "outputs": [],
   "source": [
    "def get_names(filelist, suffix):\n",
    "    return [suffix + f.name for f in filelist]"
   ]
  },
  {
   "cell_type": "code",
   "execution_count": 47,
   "metadata": {},
   "outputs": [
    {
     "name": "stdout",
     "output_type": "stream",
     "text": [
      "11500\n",
      "11500\n",
      "1000\n",
      "1000\n"
     ]
    }
   ],
   "source": [
    "train_cats = get_names(p(PATH + \"train/cats/\").files(), \"train/cats/\")\n",
    "train_dogs = get_names(p(PATH + \"train/dogs/\").files(), \"train/dogs/\")\n",
    "valid_cats = get_names(p(PATH + \"valid/cats/\").files(), \"valid/cats/\")\n",
    "valid_dogs = get_names(p(PATH + \"valid/dogs/\").files(), \"valid/dogs/\")\n",
    "print(len(train_cats))\n",
    "print(len(train_dogs))\n",
    "print(len(valid_cats))\n",
    "print(len(valid_dogs))"
   ]
  },
  {
   "cell_type": "code",
   "execution_count": 67,
   "metadata": {},
   "outputs": [],
   "source": [
    "catfiles = list(np.random.choice(train_cats, n_cats, False)) + list(valid_cats)\n",
    "dogfiles = list(np.random.choice(train_dogs, n_dogs, False)) + list(valid_dogs)\n",
    "fnames = catfiles + dogfiles\n",
    "y = np.array([CAT]*len(catfiles) + [DOG]*len(dogfiles))\n",
    "classes = list(set(y))\n",
    "valid_cat_idxs = range(n, n + len(valid_cats))\n",
    "valid_dog_idxs = range(n + len(valid_cats) + n, len(fnames))\n",
    "val_idxs = list(valid_cat_idxs) + list(valid_dog_idxs)\n",
    "                                               \n",
    "# fnames: file names\n",
    "# y: numpy array which contains target labels ordered by filenames.\n",
    "# classes: a list of all labels/classifications\n",
    "# val_idxs: index of images to be used for validation."
   ]
  },
  {
   "cell_type": "code",
   "execution_count": 68,
   "metadata": {},
   "outputs": [
    {
     "name": "stdout",
     "output_type": "stream",
     "text": [
      "100%|██████████████████████████████████████████████████████████████████████████████████| 18/18 [00:14<00:00,  1.20it/s]\n"
     ]
    }
   ],
   "source": [
    "arch=resnet34\n",
    "data = ImageClassifierData.from_names_and_array(PATH, fnames, y, classes, \\\n",
    "                                                val_idxs, bs=bs, \\\n",
    "                                                tfms=tfms_from_model(arch, sz))\n",
    "learn = ConvLearner.pretrained(arch, data, precompute=True)"
   ]
  },
  {
   "cell_type": "code",
   "execution_count": 64,
   "metadata": {},
   "outputs": [
    {
     "data": {
      "application/vnd.jupyter.widget-view+json": {
       "model_id": "3d512839c6064746819f5e4cdbe8c5cd",
       "version_major": 2,
       "version_minor": 0
      },
      "text/plain": [
       "HBox(children=(IntProgress(value=0, description='Epoch', max=5), HTML(value='')))"
      ]
     },
     "metadata": {},
     "output_type": "display_data"
    },
    {
     "name": "stdout",
     "output_type": "stream",
     "text": [
      "epoch      trn_loss   val_loss   accuracy                                                                              \n",
      "    0      0.184161   0.053327   0.984     \n",
      "    1      0.092293   0.047834   0.9845                                                                                \n",
      "    2      0.062073   0.044495   0.9855                                                                                \n",
      "    3      0.046561   0.042303   0.986                                                                                 \n",
      "    4      0.038997   0.043131   0.985                                                                                 \n",
      "\n"
     ]
    },
    {
     "data": {
      "text/plain": [
       "[array([0.04313]), 0.985]"
      ]
     },
     "execution_count": 64,
     "metadata": {},
     "output_type": "execute_result"
    }
   ],
   "source": [
    "lr = 0.01\n",
    "epochs = 5\n",
    "learn.fit(lr, epochs)"
   ]
  },
  {
   "cell_type": "code",
   "execution_count": 56,
   "metadata": {},
   "outputs": [
    {
     "data": {
      "application/vnd.jupyter.widget-view+json": {
       "model_id": "4e5c24959640487e9ff769bfbcb94745",
       "version_major": 2,
       "version_minor": 0
      },
      "text/plain": [
       "HBox(children=(IntProgress(value=0, description='Epoch', max=1), HTML(value='')))"
      ]
     },
     "metadata": {},
     "output_type": "display_data"
    },
    {
     "name": "stdout",
     "output_type": "stream",
     "text": [
      "epoch      trn_loss   val_loss   accuracy                                                                              \n",
      "    0      0.896867   0.087619   0.9765    \n",
      "\n"
     ]
    }
   ],
   "source": [
    "learn = ConvLearner.pretrained(arch, data, precompute=True)\n",
    "lrf=learn.lr_find()"
   ]
  },
  {
   "cell_type": "code",
   "execution_count": 59,
   "metadata": {},
   "outputs": [],
   "source": [
    "tfms = tfms_from_model(resnet34, sz, aug_tfms=transforms_side_on, max_zoom=1.1)"
   ]
  },
  {
   "cell_type": "code",
   "execution_count": 60,
   "metadata": {},
   "outputs": [],
   "source": [
    "data = ImageClassifierData.from_names_and_array(PATH, fnames, y, classes, \\\n",
    "                                                val_idxs, bs=bs, \\\n",
    "                                                tfms=tfms)\n",
    "learn = ConvLearner.pretrained(arch, data, precompute=True)"
   ]
  },
  {
   "cell_type": "code",
   "execution_count": null,
   "metadata": {},
   "outputs": [],
   "source": []
  }
 ],
 "metadata": {
  "kernelspec": {
   "display_name": "fastAI custom",
   "language": "python",
   "name": "fastai"
  },
  "language_info": {
   "codemirror_mode": {
    "name": "ipython",
    "version": 3
   },
   "file_extension": ".py",
   "mimetype": "text/x-python",
   "name": "python",
   "nbconvert_exporter": "python",
   "pygments_lexer": "ipython3",
   "version": "3.6.5"
  }
 },
 "nbformat": 4,
 "nbformat_minor": 2
}
