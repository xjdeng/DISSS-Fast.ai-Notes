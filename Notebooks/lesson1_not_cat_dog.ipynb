{
 "cells": [
  {
   "cell_type": "code",
   "execution_count": 1,
   "metadata": {
    "collapsed": true
   },
   "outputs": [],
   "source": [
    "%reload_ext autoreload\n",
    "%autoreload 2\n",
    "%matplotlib inline\n",
    "from fastai.imports import *\n",
    "from fastai.transforms import *\n",
    "from fastai.conv_learner import *\n",
    "from fastai.model import *\n",
    "from fastai.dataset import *\n",
    "from fastai.sgdr import *\n",
    "from fastai.plots import *\n",
    "from path import Path as p"
   ]
  },
  {
   "cell_type": "code",
   "execution_count": 2,
   "metadata": {
    "collapsed": true
   },
   "outputs": [],
   "source": [
    "PATH = \"../../../data/\"\n",
    "PATH2 = \"../../../data/Flicker8k_Dataset/\"\n",
    "sz=224\n",
    "bs = 64\n",
    "n = 1000 # Number of dogs and cats to train model on\n",
    "# imbalanced classes\n",
    "CATDOG = 0 # Dummy class variables\n",
    "NOTCATDOG = 1 # Not Cat or Not Dog"
   ]
  },
  {
   "cell_type": "code",
   "execution_count": 3,
   "metadata": {
    "collapsed": true
   },
   "outputs": [],
   "source": [
    "def get_names(filelist, suffix):\n",
    "    return [suffix + f.name for f in filelist]"
   ]
  },
  {
   "cell_type": "code",
   "execution_count": 14,
   "metadata": {},
   "outputs": [
    {
     "name": "stdout",
     "output_type": "stream",
     "text": [
      "11500\n",
      "11500\n",
      "1000\n",
      "1000\n",
      "8091\n"
     ]
    }
   ],
   "source": [
    "train_cats = get_names(p(PATH + \"dogscats/train/cats/\").files(), \"dogscats/train/cats/\")\n",
    "train_dogs = get_names(p(PATH + \"dogscats/train/dogs/\").files(), \"dogscats/train/dogs/\")\n",
    "valid_cats = get_names(p(PATH + \"dogscats/valid/cats/\").files(), \"dogscats/valid/cats/\")\n",
    "valid_dogs = get_names(p(PATH + \"dogscats/valid/dogs/\").files(), \"dogscats/valid/dogs/\")\n",
    "flickr = get_names(p(PATH2).files(), str(p(p(PATH2).abspath()).name) + \"/\")\n",
    "print(len(train_cats))\n",
    "print(len(train_dogs))\n",
    "print(len(valid_cats))\n",
    "print(len(valid_dogs))\n",
    "print(len(flickr))"
   ]
  },
  {
   "cell_type": "code",
   "execution_count": 16,
   "metadata": {},
   "outputs": [
    {
     "name": "stdout",
     "output_type": "stream",
     "text": [
      "[Path('Flicker8k_Dataset/1000268201_693b08cb0e.jpg'), Path('Flicker8k_Dataset/1001773457_577c3a7d70.jpg'), Path('Flicker8k_Dataset/1002674143_1b742ab4b8.jpg'), Path('Flicker8k_Dataset/1003163366_44323f5815.jpg'), Path('Flicker8k_Dataset/1007129816_e794419615.jpg')]\n"
     ]
    }
   ],
   "source": [
    "print(flickr[0:5])"
   ]
  },
  {
   "cell_type": "markdown",
   "metadata": {},
   "source": [
    "## Part 1: Not Cats"
   ]
  },
  {
   "cell_type": "code",
   "execution_count": 17,
   "metadata": {
    "collapsed": true
   },
   "outputs": [],
   "source": [
    "def prep(train, valid):\n",
    "    p(PATH + \"/tmp/\").rmtree_p() # remove cached training data\n",
    "    animals = list(np.random.choice(train, n, False)) + list(valid)\n",
    "    notanimals = list(np.random.choice(flickr, n + len(valid), False))\n",
    "    fn = animals + notanimals\n",
    "    yy = np.array([CATDOG]*len(animals) + [NOTCATDOG]*len(notanimals))\n",
    "    cs = list(set(yy))\n",
    "    v_cat_dog_idx = range(n, n + len(valid))\n",
    "    v_not_idx = range(len(animals) + n, len(fn))\n",
    "    vi = list(v_cat_dog_idx) + list(v_not_idx)\n",
    "    return (fn, yy, cs, vi)\n",
    "\n",
    "# fn or fnames: file names\n",
    "# yy or y: numpy array which contains target labels ordered by filenames.\n",
    "# cs or classes: a list of all labels/classifications, [0, 1]\n",
    "# vi or val_idxs: index of images to be used for validation."
   ]
  },
  {
   "cell_type": "code",
   "execution_count": 18,
   "metadata": {
    "collapsed": true
   },
   "outputs": [],
   "source": [
    "fnames, y, classes, val_idxs = prep(train_cats, valid_cats)"
   ]
  },
  {
   "cell_type": "code",
   "execution_count": 19,
   "metadata": {},
   "outputs": [
    {
     "name": "stdout",
     "output_type": "stream",
     "text": [
      "100%|██████████████████████████████████████████████████████████████████████████████████| 32/32 [00:33<00:00,  1.03s/it]\n",
      "100%|██████████████████████████████████████████████████████████████████████████████████| 32/32 [00:36<00:00,  1.13s/it]\n"
     ]
    }
   ],
   "source": [
    "# Let's set up our model using the pretrained Resnet34 Imagenet model\n",
    "arch=resnet34\n",
    "data = ImageClassifierData.from_names_and_array(PATH, fnames, y, classes, \\\n",
    "                                                val_idxs, bs=bs, \\\n",
    "                                                tfms=tfms_from_model(arch, sz))\n",
    "learn = ConvLearner.pretrained(arch, data, precompute=True)"
   ]
  },
  {
   "cell_type": "code",
   "execution_count": 20,
   "metadata": {},
   "outputs": [
    {
     "data": {
      "application/vnd.jupyter.widget-view+json": {
       "model_id": "994d29c946184557b2fafedb3eb0f8b8",
       "version_major": 2,
       "version_minor": 0
      },
      "text/plain": [
       "HBox(children=(IntProgress(value=0, description='Epoch', max=5), HTML(value='')))"
      ]
     },
     "metadata": {},
     "output_type": "display_data"
    },
    {
     "name": "stdout",
     "output_type": "stream",
     "text": [
      "epoch      trn_loss   val_loss   accuracy                                                                              \n",
      "    0      0.137522   0.02288    0.9935    \n",
      "    1      0.067569   0.016657   0.995                                                                                 \n",
      "    2      0.047307   0.015207   0.9945                                                                                \n",
      "    3      0.031811   0.014908   0.9945                                                                                \n",
      "    4      0.025388   0.014355   0.994                                                                                 \n",
      "\n"
     ]
    },
    {
     "data": {
      "text/plain": [
       "[array([0.01435]), 0.994]"
      ]
     },
     "execution_count": 20,
     "metadata": {},
     "output_type": "execute_result"
    }
   ],
   "source": [
    "# Use a learning rate of 0.01 and train for 5 epochs\n",
    "lr = 0.01\n",
    "epochs = 5\n",
    "learn.fit(lr, epochs)"
   ]
  },
  {
   "cell_type": "code",
   "execution_count": 21,
   "metadata": {
    "collapsed": true
   },
   "outputs": [],
   "source": [
    "# Create our prediction function\n",
    "def predict(learner, pred_files, tfs = tfms_from_model(arch, sz)):\n",
    "    orig_precompute = learner.precompute\n",
    "    learner.precompute = False\n",
    "    trn_tfms, val_tfms = tfs\n",
    "    ds = FilesIndexArrayDataset(list(pred_files), np.zeros(len(pred_files)), val_tfms, PATH)\n",
    "    dl = DataLoader(ds)\n",
    "    log_preds = learner.predict_dl(dl)\n",
    "    preds = np.exp(log_preds)\n",
    "    results = np.argmax(preds, axis=1)\n",
    "    learner.precompute = orig_precompute\n",
    "    return results"
   ]
  },
  {
   "cell_type": "code",
   "execution_count": 22,
   "metadata": {},
   "outputs": [
    {
     "name": "stdout",
     "output_type": "stream",
     "text": [
      "829\n"
     ]
    }
   ],
   "source": [
    "# Now try to predict on dogs\n",
    "pred_dogs = predict(learn, valid_dogs)\n",
    "print(sum(pred_dogs))"
   ]
  },
  {
   "cell_type": "markdown",
   "metadata": {},
   "source": [
    "## Part 2: Not Dogs"
   ]
  },
  {
   "cell_type": "code",
   "execution_count": 23,
   "metadata": {
    "collapsed": true
   },
   "outputs": [],
   "source": [
    "fnames, y, classes, val_idxs = prep(train_dogs, valid_dogs)"
   ]
  },
  {
   "cell_type": "code",
   "execution_count": 24,
   "metadata": {},
   "outputs": [
    {
     "name": "stdout",
     "output_type": "stream",
     "text": [
      "100%|██████████████████████████████████████████████████████████████████████████████████| 32/32 [00:35<00:00,  1.10s/it]\n",
      "100%|██████████████████████████████████████████████████████████████████████████████████| 32/32 [00:33<00:00,  1.04s/it]\n"
     ]
    }
   ],
   "source": [
    "# Let's set up our model using the pretrained Resnet34 Imagenet model\n",
    "arch=resnet34\n",
    "data = ImageClassifierData.from_names_and_array(PATH, fnames, y, classes, \\\n",
    "                                                val_idxs, bs=bs, \\\n",
    "                                                tfms=tfms_from_model(arch, sz))\n",
    "learn = ConvLearner.pretrained(arch, data, precompute=True)"
   ]
  },
  {
   "cell_type": "code",
   "execution_count": 25,
   "metadata": {},
   "outputs": [
    {
     "data": {
      "application/vnd.jupyter.widget-view+json": {
       "model_id": "618965bfbf2f410aaac22700d40636f2",
       "version_major": 2,
       "version_minor": 0
      },
      "text/plain": [
       "HBox(children=(IntProgress(value=0, description='Epoch', max=5), HTML(value='')))"
      ]
     },
     "metadata": {},
     "output_type": "display_data"
    },
    {
     "name": "stdout",
     "output_type": "stream",
     "text": [
      "epoch      trn_loss   val_loss   accuracy                                                                              \n",
      "    0      0.307277   0.115905   0.954     \n",
      "    1      0.187187   0.087489   0.9675                                                                                \n",
      "    2      0.141887   0.091784   0.968                                                                                 \n",
      "    3      0.108255   0.071746   0.9755                                                                                \n",
      "    4      0.08914    0.069125   0.9755                                                                                \n",
      "\n"
     ]
    },
    {
     "data": {
      "text/plain": [
       "[array([0.06912]), 0.9755]"
      ]
     },
     "execution_count": 25,
     "metadata": {},
     "output_type": "execute_result"
    }
   ],
   "source": [
    "# Use a learning rate of 0.01 and train for 5 epochs\n",
    "lr = 0.01\n",
    "epochs = 5\n",
    "learn.fit(lr, epochs)"
   ]
  },
  {
   "cell_type": "code",
   "execution_count": 26,
   "metadata": {},
   "outputs": [
    {
     "name": "stdout",
     "output_type": "stream",
     "text": [
      "165\n"
     ]
    }
   ],
   "source": [
    "# Now try to predict on cats\n",
    "pred_cats = predict(learn, valid_cats)\n",
    "print(sum(pred_cats))"
   ]
  },
  {
   "cell_type": "markdown",
   "metadata": {},
   "source": [
    "## Part 3: Improve our \"Not Dog\" classifier"
   ]
  },
  {
   "cell_type": "code",
   "execution_count": 27,
   "metadata": {
    "collapsed": true
   },
   "outputs": [],
   "source": [
    "fnames, y, classes, val_idxs = prep(train_dogs, valid_dogs)"
   ]
  },
  {
   "cell_type": "code",
   "execution_count": 28,
   "metadata": {},
   "outputs": [
    {
     "name": "stdout",
     "output_type": "stream",
     "text": [
      "100%|██████████████████████████████████████████████████████████████████████████████████| 32/32 [00:29<00:00,  1.07it/s]\n",
      "100%|██████████████████████████████████████████████████████████████████████████████████| 32/32 [00:26<00:00,  1.21it/s]\n"
     ]
    }
   ],
   "source": [
    "arch=resnet34\n",
    "tfms = tfms_from_model(arch, sz, aug_tfms=transforms_side_on,\\\n",
    "                                        max_zoom=1.1)\n",
    "data = ImageClassifierData.from_names_and_array(PATH, fnames, y, classes, \\\n",
    "                                                val_idxs, bs=bs, \\\n",
    "                                                tfms=tfms)\n",
    "learn = ConvLearner.pretrained(arch, data, precompute=True)"
   ]
  },
  {
   "cell_type": "code",
   "execution_count": 29,
   "metadata": {},
   "outputs": [
    {
     "data": {
      "application/vnd.jupyter.widget-view+json": {
       "model_id": "4e8aa9c6e3b1430c9149939dfbed190e",
       "version_major": 2,
       "version_minor": 0
      },
      "text/plain": [
       "HBox(children=(IntProgress(value=0, description='Epoch', max=1), HTML(value='')))"
      ]
     },
     "metadata": {},
     "output_type": "display_data"
    },
    {
     "name": "stdout",
     "output_type": "stream",
     "text": [
      " 94%|█████████████████████████████████████████████████████████████████▋    | 30/32 [00:00<00:00, 53.29it/s, loss=0.847]\n",
      "                                                                                                                       \r"
     ]
    }
   ],
   "source": [
    "learn.lr_find()"
   ]
  },
  {
   "cell_type": "code",
   "execution_count": 30,
   "metadata": {},
   "outputs": [
    {
     "data": {
      "image/png": "[encoded data removed]",
      "text/plain": [
       "<Figure size 432x288 with 1 Axes>"
      ]
     },
     "metadata": {},
     "output_type": "display_data"
    }
   ],
   "source": [
    "learn.sched.plot_lr()"
   ]
  },
  {
   "cell_type": "code",
   "execution_count": 31,
   "metadata": {},
   "outputs": [
    {
     "data": {
      "image/png": "[encoded data removed]",
      "text/plain": [
       "<Figure size 432x288 with 1 Axes>"
      ]
     },
     "metadata": {},
     "output_type": "display_data"
    }
   ],
   "source": [
    "learn.sched.plot()"
   ]
  },
  {
   "cell_type": "code",
   "execution_count": 32,
   "metadata": {
    "collapsed": true
   },
   "outputs": [],
   "source": [
    "lr = 0.1"
   ]
  },
  {
   "cell_type": "code",
   "execution_count": 33,
   "metadata": {},
   "outputs": [
    {
     "data": {
      "application/vnd.jupyter.widget-view+json": {
       "model_id": "57aac24083da4bd3bad8c25afc50e35e",
       "version_major": 2,
       "version_minor": 0
      },
      "text/plain": [
       "HBox(children=(IntProgress(value=0, description='Epoch', max=5), HTML(value='')))"
      ]
     },
     "metadata": {},
     "output_type": "display_data"
    },
    {
     "name": "stdout",
     "output_type": "stream",
     "text": [
      "epoch      trn_loss   val_loss   accuracy                                                                              \n",
      "    0      0.263797   0.131395   0.969     \n",
      "    1      0.201868   0.076869   0.9775                                                                                \n",
      "    2      0.162154   0.079309   0.978                                                                                 \n",
      "    3      0.132985   0.094335   0.977                                                                                 \n",
      "    4      0.110291   0.096537   0.9775                                                                                \n",
      "\n"
     ]
    },
    {
     "data": {
      "text/plain": [
       "[array([0.09654]), 0.9775]"
      ]
     },
     "execution_count": 33,
     "metadata": {},
     "output_type": "execute_result"
    }
   ],
   "source": [
    "epochs = 5\n",
    "learn.fit(lr, epochs)"
   ]
  },
  {
   "cell_type": "code",
   "execution_count": 34,
   "metadata": {
    "collapsed": true
   },
   "outputs": [],
   "source": [
    "learn.precompute = False"
   ]
  },
  {
   "cell_type": "code",
   "execution_count": 35,
   "metadata": {},
   "outputs": [
    {
     "data": {
      "application/vnd.jupyter.widget-view+json": {
       "model_id": "0c8ae7d46857424aa17c552d9debe5bf",
       "version_major": 2,
       "version_minor": 0
      },
      "text/plain": [
       "HBox(children=(IntProgress(value=0, description='Epoch', max=3), HTML(value='')))"
      ]
     },
     "metadata": {},
     "output_type": "display_data"
    },
    {
     "name": "stdout",
     "output_type": "stream",
     "text": [
      "epoch      trn_loss   val_loss   accuracy                                                                              \n",
      "    0      0.172541   0.097685   0.9755    \n",
      "    1      0.147458   0.098173   0.9745                                                                                \n",
      "    2      0.128274   0.103721   0.974                                                                                 \n",
      "\n"
     ]
    },
    {
     "data": {
      "text/plain": [
       "[array([0.10372]), 0.974]"
      ]
     },
     "execution_count": 35,
     "metadata": {},
     "output_type": "execute_result"
    }
   ],
   "source": [
    "learn.fit(lr, 3, cycle_len = 1)"
   ]
  },
  {
   "cell_type": "code",
   "execution_count": 36,
   "metadata": {
    "collapsed": true
   },
   "outputs": [],
   "source": [
    "learn.unfreeze()"
   ]
  },
  {
   "cell_type": "code",
   "execution_count": 37,
   "metadata": {},
   "outputs": [
    {
     "data": {
      "application/vnd.jupyter.widget-view+json": {
       "model_id": "f36f09fe57e2488ba42563706187954d",
       "version_major": 2,
       "version_minor": 0
      },
      "text/plain": [
       "HBox(children=(IntProgress(value=0, description='Epoch', max=1), HTML(value='')))"
      ]
     },
     "metadata": {},
     "output_type": "display_data"
    },
    {
     "name": "stdout",
     "output_type": "stream",
     "text": [
      " 72%|██████████████████████████████████████████████████▎                   | 23/32 [00:43<00:17,  1.89s/it, loss=0.339]"
     ]
    }
   ],
   "source": [
    "learn.lr_find()"
   ]
  },
  {
   "cell_type": "code",
   "execution_count": 38,
   "metadata": {},
   "outputs": [
    {
     "data": {
      "image/png": "[encoded data removed]",
      "text/plain": [
       "<Figure size 432x288 with 1 Axes>"
      ]
     },
     "metadata": {},
     "output_type": "display_data"
    }
   ],
   "source": [
    "learn.sched.plot_lr()"
   ]
  },
  {
   "cell_type": "code",
   "execution_count": 39,
   "metadata": {},
   "outputs": [
    {
     "data": {
      "image/png": "[encoded data removed]",
      "text/plain": [
       "<Figure size 432x288 with 1 Axes>"
      ]
     },
     "metadata": {},
     "output_type": "display_data"
    }
   ],
   "source": [
    "learn.sched.plot()"
   ]
  },
  {
   "cell_type": "code",
   "execution_count": 40,
   "metadata": {
    "collapsed": true
   },
   "outputs": [],
   "source": [
    "lr = np.array([1e-5, 1e-4, 1e-3])"
   ]
  },
  {
   "cell_type": "code",
   "execution_count": null,
   "metadata": {},
   "outputs": [
    {
     "data": {
      "application/vnd.jupyter.widget-view+json": {
       "model_id": "3c2c9824353040a481ab77b2354c1ac6",
       "version_major": 2,
       "version_minor": 0
      },
      "text/plain": [
       "HBox(children=(IntProgress(value=0, description='Epoch', max=7), HTML(value='')))"
      ]
     },
     "metadata": {},
     "output_type": "display_data"
    },
    {
     "name": "stdout",
     "output_type": "stream",
     "text": [
      "epoch      trn_loss   val_loss   accuracy                                                                              \n",
      "    0      0.136758   0.118224   0.9685    \n",
      "                                                                                                                       \r"
     ]
    }
   ],
   "source": [
    "learn.fit(lr, 3, cycle_len=1, cycle_mult=2)"
   ]
  },
  {
   "cell_type": "code",
   "execution_count": 56,
   "metadata": {},
   "outputs": [
    {
     "name": "stdout",
     "output_type": "stream",
     "text": [
      "384\n"
     ]
    }
   ],
   "source": [
    "# Now try to predict on cats\n",
    "pred_cats = predict(learn, valid_cats)\n",
    "print(sum(pred_cats))"
   ]
  },
  {
   "cell_type": "code",
   "execution_count": null,
   "metadata": {
    "collapsed": true
   },
   "outputs": [],
   "source": []
  }
 ],
 "metadata": {
  "kernelspec": {
   "display_name": "fastAI custom",
   "language": "python",
   "name": "fastai"
  },
  "language_info": {
   "codemirror_mode": {
    "name": "ipython",
    "version": 3
   },
   "file_extension": ".py",
   "mimetype": "text/x-python",
   "name": "python",
   "nbconvert_exporter": "python",
   "pygments_lexer": "ipython3",
   "version": "3.6.5"
  }
 },
 "nbformat": 4,
 "nbformat_minor": 2
}
