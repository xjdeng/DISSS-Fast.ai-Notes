{
 "cells": [
  {
   "cell_type": "code",
   "execution_count": 1,
   "metadata": {},
   "outputs": [],
   "source": [
    "%reload_ext autoreload\n",
    "%autoreload 2\n",
    "%matplotlib inline\n",
    "from fastai.imports import *\n",
    "from fastai.transforms import *\n",
    "from fastai.conv_learner import *\n",
    "from fastai.model import *\n",
    "from fastai.dataset import *\n",
    "from fastai.sgdr import *\n",
    "from fastai.plots import *\n",
    "from path import Path as p"
   ]
  },
  {
   "cell_type": "code",
   "execution_count": 2,
   "metadata": {},
   "outputs": [],
   "source": [
    "PATH = \"../../../data/\"\n",
    "PATH2 = \"../../../data/Flicker8k_Dataset/\"\n",
    "sz=224\n",
    "bs = 64\n",
    "n = 1000 # Number of dogs and cats to train model on\n",
    "# imbalanced classes\n",
    "CATDOG = 0 # Dummy class variables\n",
    "NOTCATDOG = 1 # Not Cat or Not Dog"
   ]
  },
  {
   "cell_type": "code",
   "execution_count": 3,
   "metadata": {},
   "outputs": [],
   "source": [
    "def get_names(filelist, suffix):\n",
    "    return [suffix + f.name for f in filelist]"
   ]
  },
  {
   "cell_type": "code",
   "execution_count": 4,
   "metadata": {},
   "outputs": [
    {
     "name": "stdout",
     "output_type": "stream",
     "text": [
      "11500\n",
      "11500\n",
      "1000\n",
      "1000\n",
      "8091\n"
     ]
    }
   ],
   "source": [
    "train_cats = get_names(p(PATH + \"dogscats/train/cats/\").files(), \"dogscats/train/cats/\")\n",
    "train_dogs = get_names(p(PATH + \"dogscats/train/dogs/\").files(), \"dogscats/train/dogs/\")\n",
    "valid_cats = get_names(p(PATH + \"dogscats/valid/cats/\").files(), \"dogscats/valid/cats/\")\n",
    "valid_dogs = get_names(p(PATH + \"dogscats/valid/dogs/\").files(), \"dogscats/valid/dogs/\")\n",
    "flickr = get_names(p(PATH2).files(), \"Flicker8k_Dataset/\")\n",
    "print(len(train_cats))\n",
    "print(len(train_dogs))\n",
    "print(len(valid_cats))\n",
    "print(len(valid_dogs))\n",
    "print(len(flickr))"
   ]
  },
  {
   "cell_type": "markdown",
   "metadata": {},
   "source": [
    "## Part 1: Not Cats"
   ]
  },
  {
   "cell_type": "code",
   "execution_count": 7,
   "metadata": {},
   "outputs": [],
   "source": [
    "def prep(train, valid):\n",
    "    p(PATH + \"/tmp/\").rmtree_p() # remove cached training data\n",
    "    animals = list(np.random.choice(train, n, False)) + list(valid)\n",
    "    notanimals = list(np.random.choice(flickr, n + len(valid), False))\n",
    "    fn = animals + notanimals\n",
    "    yy = np.array([CATDOG]*len(animals) + [NOTCATDOG]*len(notanimals))\n",
    "    cs = list(set(yy))\n",
    "    v_cat_dog_idx = range(n, n + len(valid))\n",
    "    v_not_idx = range(len(animals) + n, len(fn))\n",
    "    vi = list(v_cat_dog_idx) + list(v_not_idx)\n",
    "    return (fn, yy, cs, vi)\n",
    "\n",
    "# fn or fnames: file names\n",
    "# yy or y: numpy array which contains target labels ordered by filenames.\n",
    "# cs or classes: a list of all labels/classifications, [0, 1]\n",
    "# vi or val_idxs: index of images to be used for validation."
   ]
  },
  {
   "cell_type": "code",
   "execution_count": 8,
   "metadata": {},
   "outputs": [],
   "source": [
    "fnames, y, classes, val_idxs = prep(train_cats, valid_cats)"
   ]
  },
  {
   "cell_type": "code",
   "execution_count": 9,
   "metadata": {},
   "outputs": [
    {
     "name": "stdout",
     "output_type": "stream",
     "text": [
      "100%|██████████████████████████████████████████████████████████████████████████████████| 32/32 [00:28<00:00,  1.13it/s]\n",
      "100%|██████████████████████████████████████████████████████████████████████████████████| 32/32 [00:23<00:00,  1.35it/s]\n"
     ]
    }
   ],
   "source": [
    "# Let's set up our model using the pretrained Resnet34 Imagenet model\n",
    "arch=resnet34\n",
    "data = ImageClassifierData.from_names_and_array(PATH, fnames, y, classes, \\\n",
    "                                                val_idxs, bs=bs, \\\n",
    "                                                tfms=tfms_from_model(arch, sz))\n",
    "learn = ConvLearner.pretrained(arch, data, precompute=True)"
   ]
  },
  {
   "cell_type": "code",
   "execution_count": 10,
   "metadata": {},
   "outputs": [
    {
     "data": {
      "application/vnd.jupyter.widget-view+json": {
       "model_id": "b9484b44380746d58d1f865008f0f5cb",
       "version_major": 2,
       "version_minor": 0
      },
      "text/plain": [
       "HBox(children=(IntProgress(value=0, description='Epoch', max=5), HTML(value='')))"
      ]
     },
     "metadata": {},
     "output_type": "display_data"
    },
    {
     "name": "stdout",
     "output_type": "stream",
     "text": [
      "epoch      trn_loss   val_loss   accuracy                                                                              \n",
      "    0      0.14451    0.028791   0.9895    \n",
      "    1      0.07773    0.022651   0.992                                                                                 \n",
      "    2      0.052172   0.020733   0.993                                                                                 \n",
      "    3      0.03796    0.020349   0.992                                                                                 \n",
      "    4      0.031553   0.02006    0.9925                                                                                \n",
      "\n"
     ]
    },
    {
     "data": {
      "text/plain": [
       "[array([0.02006]), 0.9925]"
      ]
     },
     "execution_count": 10,
     "metadata": {},
     "output_type": "execute_result"
    }
   ],
   "source": [
    "# Use a learning rate of 0.01 and train for 5 epochs\n",
    "lr = 0.01\n",
    "epochs = 5\n",
    "learn.fit(lr, epochs)"
   ]
  },
  {
   "cell_type": "code",
   "execution_count": 11,
   "metadata": {},
   "outputs": [],
   "source": [
    "# Create our prediction function\n",
    "def predict(learner, pred_files):\n",
    "    orig_precompute = learner.precompute\n",
    "    learner.precompute = False\n",
    "    trn_tfms, val_tfms = tfms_from_model(arch, sz)\n",
    "    ds = FilesIndexArrayDataset(list(pred_files), np.zeros(len(pred_files)), val_tfms, PATH)\n",
    "    dl = DataLoader(ds)\n",
    "    log_preds = learner.predict_dl(dl)\n",
    "    preds = np.exp(log_preds)\n",
    "    results = np.argmax(preds, axis=1)\n",
    "    learner.precompute = orig_precompute\n",
    "    return results"
   ]
  },
  {
   "cell_type": "code",
   "execution_count": 12,
   "metadata": {},
   "outputs": [
    {
     "name": "stdout",
     "output_type": "stream",
     "text": [
      "802\n"
     ]
    }
   ],
   "source": [
    "# Now try to predict on dogs\n",
    "pred_dogs = predict(learn, valid_dogs)\n",
    "print(sum(pred_dogs))"
   ]
  },
  {
   "cell_type": "markdown",
   "metadata": {},
   "source": [
    "## Part 2: Not Dogs"
   ]
  },
  {
   "cell_type": "code",
   "execution_count": 13,
   "metadata": {},
   "outputs": [],
   "source": [
    "fnames, y, classes, val_idxs = prep(list(np.random.choice(flickr, n, False)), valid_dogs)"
   ]
  },
  {
   "cell_type": "code",
   "execution_count": 14,
   "metadata": {},
   "outputs": [
    {
     "name": "stdout",
     "output_type": "stream",
     "text": [
      "100%|██████████████████████████████████████████████████████████████████████████████████| 32/32 [00:28<00:00,  1.12it/s]\n",
      "100%|██████████████████████████████████████████████████████████████████████████████████| 32/32 [00:22<00:00,  1.45it/s]\n"
     ]
    }
   ],
   "source": [
    "# Let's set up our model using the pretrained Resnet34 Imagenet model\n",
    "arch=resnet34\n",
    "data = ImageClassifierData.from_names_and_array(PATH, fnames, y, classes, \\\n",
    "                                                val_idxs, bs=bs, \\\n",
    "                                                tfms=tfms_from_model(arch, sz))\n",
    "learn = ConvLearner.pretrained(arch, data, precompute=True)"
   ]
  },
  {
   "cell_type": "code",
   "execution_count": 18,
   "metadata": {},
   "outputs": [
    {
     "data": {
      "application/vnd.jupyter.widget-view+json": {
       "model_id": "8ce8aceed51d4b3ca7f0613ccf90996a",
       "version_major": 2,
       "version_minor": 0
      },
      "text/plain": [
       "HBox(children=(IntProgress(value=0, description='Epoch', max=20), HTML(value='')))"
      ]
     },
     "metadata": {},
     "output_type": "display_data"
    },
    {
     "name": "stdout",
     "output_type": "stream",
     "text": [
      "epoch      trn_loss   val_loss   accuracy                                                                              \n",
      "    0      0.641971   0.764582   0.441     \n",
      "    1      0.629963   0.774343   0.4275                                                                                \n",
      "    2      0.632966   0.75218    0.4605                                                                                \n",
      "    3      0.622216   0.77162    0.4395                                                                                \n",
      "    4      0.616978   0.764566   0.453                                                                                 \n",
      "    5      0.603909   0.770566   0.4525                                                                                \n",
      "    6      0.607761   0.763815   0.4665                                                                                \n",
      "    7      0.607189   0.789551   0.4365                                                                                \n",
      "    8      0.604421   0.78133    0.4455                                                                                \n",
      "    9      0.595645   0.797513   0.4355                                                                                \n",
      "    10     0.592088   0.786224   0.448                                                                                 \n",
      "    11     0.585182   0.783585   0.4585                                                                                \n",
      "    12     0.579058   0.800505   0.4455                                                                                \n",
      "    13     0.578291   0.776224   0.471                                                                                 \n",
      "    14     0.578095   0.789236   0.4615                                                                                \n",
      "    15     0.571674   0.79654    0.461                                                                                 \n",
      "    16     0.573855   0.817345   0.4495                                                                                \n",
      "    17     0.571363   0.808112   0.454                                                                                 \n",
      "    18     0.571544   0.804712   0.453                                                                                 \n",
      "    19     0.561044   0.83266    0.4385                                                                                \n",
      "\n"
     ]
    },
    {
     "data": {
      "text/plain": [
       "[array([0.83266]), 0.4385]"
      ]
     },
     "execution_count": 18,
     "metadata": {},
     "output_type": "execute_result"
    }
   ],
   "source": [
    "# Use a learning rate of 0.01 and train for 5 epochs\n",
    "lr = 0.01\n",
    "epochs = 20\n",
    "learn.fit(lr, epochs)"
   ]
  },
  {
   "cell_type": "code",
   "execution_count": 13,
   "metadata": {},
   "outputs": [
    {
     "name": "stdout",
     "output_type": "stream",
     "text": [
      "237\n"
     ]
    }
   ],
   "source": [
    "# Now try to predict on cats\n",
    "pred_cats = predict(learn, valid_cats)\n",
    "print(sum(pred_cats))"
   ]
  },
  {
   "cell_type": "code",
   "execution_count": null,
   "metadata": {},
   "outputs": [],
   "source": []
  }
 ],
 "metadata": {
  "kernelspec": {
   "display_name": "fastAI custom",
   "language": "python",
   "name": "fastai"
  },
  "language_info": {
   "codemirror_mode": {
    "name": "ipython",
    "version": 3
   },
   "file_extension": ".py",
   "mimetype": "text/x-python",
   "name": "python",
   "nbconvert_exporter": "python",
   "pygments_lexer": "ipython3",
   "version": "3.6.5"
  }
 },
 "nbformat": 4,
 "nbformat_minor": 2
}
